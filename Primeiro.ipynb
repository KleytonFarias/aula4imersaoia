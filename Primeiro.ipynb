{
  "nbformat": 4,
  "nbformat_minor": 0,
  "metadata": {
    "colab": {
      "provenance": [],
      "include_colab_link": true
    },
    "kernelspec": {
      "name": "python3",
      "display_name": "Python 3"
    },
    "language_info": {
      "name": "python"
    }
  },
  "cells": [
    {
      "cell_type": "markdown",
      "metadata": {
        "id": "view-in-github",
        "colab_type": "text"
      },
      "source": [
        "<a href=\"https://colab.research.google.com/github/KleytonFarias/aula4imersaoia/blob/main/Primeiro.ipynb\" target=\"_parent\"><img src=\"https://colab.research.google.com/assets/colab-badge.svg\" alt=\"Open In Colab\"/></a>"
      ]
    },
    {
      "cell_type": "markdown",
      "source": [
        "Instalando o SDK do Google"
      ],
      "metadata": {
        "id": "GfNgZWkuTHJo"
      }
    },
    {
      "cell_type": "code",
      "execution_count": null,
      "metadata": {
        "id": "VwgtAEsNYwkR"
      },
      "outputs": [],
      "source": [
        "!pip install -q -U google-generativeai"
      ]
    },
    {
      "cell_type": "code",
      "source": [
        "import google.generativeai as genai\n",
        "\n",
        "GOOGLE_API_KEY=\"COLE AQUI A KEY\"\n",
        "\n",
        "genai.configure(api_key=GOOGLE_API_KEY)"
      ],
      "metadata": {
        "id": "gdYIgxOIXo2O"
      },
      "execution_count": 1,
      "outputs": []
    },
    {
      "cell_type": "code",
      "source": [
        "for m in genai.list_models():\n",
        "  if 'generateContent' in m.supported_generation_methods:\n",
        "    print(m.name)"
      ],
      "metadata": {
        "colab": {
          "base_uri": "https://localhost:8080/",
          "height": 139
        },
        "id": "PPnAapDDfm84",
        "outputId": "1fd4800f-b831-438f-d379-389cc48355ee"
      },
      "execution_count": null,
      "outputs": [
        {
          "output_type": "stream",
          "name": "stdout",
          "text": [
            "models/gemini-1.0-pro\n",
            "models/gemini-1.0-pro-001\n",
            "models/gemini-1.0-pro-latest\n",
            "models/gemini-1.0-pro-vision-latest\n",
            "models/gemini-1.5-pro-latest\n",
            "models/gemini-pro\n",
            "models/gemini-pro-vision\n"
          ]
        }
      ]
    },
    {
      "cell_type": "code",
      "source": [
        "generation_config = {\n",
        "    \"candidate_count\": 1,\n",
        "    \"temperature\": 0.5,\n",
        "}"
      ],
      "metadata": {
        "id": "TkjO-wAQhmNy"
      },
      "execution_count": null,
      "outputs": []
    },
    {
      "cell_type": "code",
      "source": [
        "safety_settings = {\n",
        "    \"HARASSMENT\" : \"BLOCK_NONE\",\n",
        "    \"HATE\" : \"BLOCK_NONE\",\n",
        "    \"SEXUAL\"  : \"BLOCK_NONE\",\n",
        "    \"DANGEROUS\"  : \"BLOCK_NONE\",\n",
        "}"
      ],
      "metadata": {
        "id": "O328oYw1ixDN"
      },
      "execution_count": null,
      "outputs": []
    },
    {
      "cell_type": "markdown",
      "source": [
        "INICIANDO O MODELO"
      ],
      "metadata": {
        "id": "dKVqhwVTjrJu"
      }
    },
    {
      "cell_type": "code",
      "source": [
        "model = genai.GenerativeModel(model_name=\"gemini-1.0-pro\",generation_config=generation_config,safety_settings=safety_settings)"
      ],
      "metadata": {
        "id": "8vTD6Y3SjtQO"
      },
      "execution_count": null,
      "outputs": []
    },
    {
      "cell_type": "markdown",
      "source": [
        "EXECUÇÃO"
      ],
      "metadata": {
        "id": "s-AvbJRfkenG"
      }
    },
    {
      "cell_type": "code",
      "source": [
        "response = model.generate_content(\"Vamos aprender conteúdo sobre IA me de sugestões\")\n",
        "print(response.text)"
      ],
      "metadata": {
        "colab": {
          "base_uri": "https://localhost:8080/",
          "height": 694
        },
        "id": "ln03rlxtk0DJ",
        "outputId": "6d03ca28-18e1-4b5b-89a6-ce2c3ac172fc"
      },
      "execution_count": null,
      "outputs": [
        {
          "output_type": "stream",
          "name": "stdout",
          "text": [
            "**Livros**\n",
            "\n",
            "* **Inteligência Artificial: Uma Abordagem Moderna** por Stuart Russell e Peter Norvig\n",
            "* **Aprendizado de Máquina** por Ethem Alpaydin\n",
            "* **Aprendizado Profundo** por Ian Goodfellow, Yoshua Bengio e Aaron Courville\n",
            "* **Aprendizado por Reforço: Uma Introdução** por Richard Sutton e Andrew Barto\n",
            "* **Processamento de Linguagem Natural** por Daniel Jurafsky e James H. Martin\n",
            "\n",
            "**Cursos Online**\n",
            "\n",
            "* **Introdução à Inteligência Artificial** (Coursera)\n",
            "* **Aprendizado de Máquina** (edX)\n",
            "* **Aprendizado Profundo** (Udemy)\n",
            "* **Inteligência Artificial para Negócios** (MIT OpenCourseWare)\n",
            "* **Processamento de Linguagem Natural** (Stanford Online)\n",
            "\n",
            "**Tutoriais e Artigos**\n",
            "\n",
            "* **Introdução à Inteligência Artificial** (Google Developers)\n",
            "* **Aprendizado de Máquina: Um Guia para Iniciantes** (IBM Developer)\n",
            "* **Aprendizado Profundo: O Guia Definitivo** (DeepLearning.AI)\n",
            "* **Processamento de Linguagem Natural: Um Guia Passo a Passo** (NLP with Python)\n",
            "* **Aprendizado por Reforço: Um Guia Prático** (OpenAI)\n",
            "\n",
            "**Conferências e Eventos**\n",
            "\n",
            "* Conferência Internacional sobre Inteligência Artificial (IJCAI)\n",
            "* Conferência sobre Sistemas de Processamento de Informação Neural (NeurIPS)\n",
            "* Conferência Internacional sobre Aprendizado de Máquina (ICML)\n",
            "* Conferência sobre Aprendizado por Reforço (RLC)\n",
            "* Conferência sobre Processamento de Linguagem Natural (ACL)\n",
            "\n",
            "**Comunidades Online**\n",
            "\n",
            "* **Reddit: r/artificialintelligence**\n",
            "* **Stack Overflow: Inteligência Artificial**\n",
            "* **Kaggle: Comunidade de Aprendizado de Máquina**\n",
            "* **Github: Tópicos de Inteligência Artificial**\n",
            "* **Slack: Comunidades de IA**\n"
          ]
        }
      ]
    },
    {
      "cell_type": "code",
      "source": [
        "chat = model.start_chat(history=[])"
      ],
      "metadata": {
        "id": "hdsGbxQElAsV"
      },
      "execution_count": null,
      "outputs": []
    },
    {
      "cell_type": "code",
      "source": [
        "prompt = input(\"Aguardando sua mensagem...\")\n",
        "\n",
        "while prompt != \"fim\" :\n",
        "  response = chat.send_message(prompt)\n",
        "  print(\"Resposta: \", response.text, \"\\n\\n\")\n",
        "  prompt = input(\"Aguardando sua mensagem...\")"
      ],
      "metadata": {
        "colab": {
          "base_uri": "https://localhost:8080/",
          "height": 173
        },
        "id": "wM9pZ8wHliQQ",
        "outputId": "7967dc0a-7fbf-4404-bb9a-525abd579bc4"
      },
      "execution_count": null,
      "outputs": [
        {
          "name": "stdout",
          "output_type": "stream",
          "text": [
            "Aguardando sua mensagem...Qual é a Capital de Santa Catarina?\n",
            "Resposta:  Florianópolis \n",
            "\n",
            "\n",
            "Aguardando sua mensagem...quantos habitantes ela tem?\n",
            "Resposta:  558.819 (estimativa para 2023) \n",
            "\n",
            "\n",
            "Aguardando sua mensagem...fim\n"
          ]
        }
      ]
    }
  ]
}